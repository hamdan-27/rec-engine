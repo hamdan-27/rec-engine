{
 "cells": [
  {
   "cell_type": "code",
   "execution_count": 1,
   "metadata": {},
   "outputs": [
    {
     "data": {
      "text/html": [
       "<div>\n",
       "<style scoped>\n",
       "    .dataframe tbody tr th:only-of-type {\n",
       "        vertical-align: middle;\n",
       "    }\n",
       "\n",
       "    .dataframe tbody tr th {\n",
       "        vertical-align: top;\n",
       "    }\n",
       "\n",
       "    .dataframe thead th {\n",
       "        text-align: right;\n",
       "    }\n",
       "</style>\n",
       "<table border=\"1\" class=\"dataframe\">\n",
       "  <thead>\n",
       "    <tr style=\"text-align: right;\">\n",
       "      <th></th>\n",
       "      <th>userID</th>\n",
       "      <th>listingID</th>\n",
       "      <th>viewCount</th>\n",
       "      <th>like</th>\n",
       "      <th>share</th>\n",
       "      <th>contactClicked</th>\n",
       "      <th>timeSpent</th>\n",
       "      <th>ratings</th>\n",
       "    </tr>\n",
       "  </thead>\n",
       "  <tbody>\n",
       "    <tr>\n",
       "      <th>0</th>\n",
       "      <td>43</td>\n",
       "      <td>1167</td>\n",
       "      <td>5</td>\n",
       "      <td>False</td>\n",
       "      <td>True</td>\n",
       "      <td>False</td>\n",
       "      <td>146</td>\n",
       "      <td>0.353</td>\n",
       "    </tr>\n",
       "    <tr>\n",
       "      <th>1</th>\n",
       "      <td>21</td>\n",
       "      <td>1023</td>\n",
       "      <td>2</td>\n",
       "      <td>True</td>\n",
       "      <td>True</td>\n",
       "      <td>True</td>\n",
       "      <td>30</td>\n",
       "      <td>1.000</td>\n",
       "    </tr>\n",
       "    <tr>\n",
       "      <th>2</th>\n",
       "      <td>8</td>\n",
       "      <td>1804</td>\n",
       "      <td>2</td>\n",
       "      <td>True</td>\n",
       "      <td>False</td>\n",
       "      <td>True</td>\n",
       "      <td>137</td>\n",
       "      <td>0.647</td>\n",
       "    </tr>\n",
       "    <tr>\n",
       "      <th>3</th>\n",
       "      <td>34</td>\n",
       "      <td>1252</td>\n",
       "      <td>5</td>\n",
       "      <td>False</td>\n",
       "      <td>False</td>\n",
       "      <td>True</td>\n",
       "      <td>206</td>\n",
       "      <td>0.471</td>\n",
       "    </tr>\n",
       "    <tr>\n",
       "      <th>4</th>\n",
       "      <td>42</td>\n",
       "      <td>1289</td>\n",
       "      <td>4</td>\n",
       "      <td>True</td>\n",
       "      <td>True</td>\n",
       "      <td>True</td>\n",
       "      <td>192</td>\n",
       "      <td>1.000</td>\n",
       "    </tr>\n",
       "  </tbody>\n",
       "</table>\n",
       "</div>"
      ],
      "text/plain": [
       "   userID  listingID  viewCount   like  share  contactClicked  timeSpent  \\\n",
       "0      43       1167          5  False   True           False        146   \n",
       "1      21       1023          2   True   True            True         30   \n",
       "2       8       1804          2   True  False            True        137   \n",
       "3      34       1252          5  False  False            True        206   \n",
       "4      42       1289          4   True   True            True        192   \n",
       "\n",
       "   ratings  \n",
       "0    0.353  \n",
       "1    1.000  \n",
       "2    0.647  \n",
       "3    0.471  \n",
       "4    1.000  "
      ]
     },
     "execution_count": 1,
     "metadata": {},
     "output_type": "execute_result"
    }
   ],
   "source": [
    "import pandas as pd\n",
    "\n",
    "df = pd.read_csv('data/sample_data_v2.csv')\n",
    "df.head()"
   ]
  },
  {
   "cell_type": "code",
   "execution_count": 2,
   "metadata": {},
   "outputs": [
    {
     "data": {
      "text/plain": [
       "(150, 8)"
      ]
     },
     "execution_count": 2,
     "metadata": {},
     "output_type": "execute_result"
    }
   ],
   "source": [
    "df.shape"
   ]
  },
  {
   "cell_type": "code",
   "execution_count": 3,
   "metadata": {},
   "outputs": [
    {
     "name": "stdout",
     "output_type": "stream",
     "text": [
      "<class 'pandas.core.frame.DataFrame'>\n",
      "RangeIndex: 150 entries, 0 to 149\n",
      "Data columns (total 8 columns):\n",
      " #   Column          Non-Null Count  Dtype  \n",
      "---  ------          --------------  -----  \n",
      " 0   userID          150 non-null    int64  \n",
      " 1   listingID       150 non-null    int64  \n",
      " 2   viewCount       150 non-null    int64  \n",
      " 3   like            150 non-null    bool   \n",
      " 4   share           150 non-null    bool   \n",
      " 5   contactClicked  150 non-null    bool   \n",
      " 6   timeSpent       150 non-null    int64  \n",
      " 7   ratings         150 non-null    float64\n",
      "dtypes: bool(3), float64(1), int64(4)\n",
      "memory usage: 6.4 KB\n"
     ]
    }
   ],
   "source": [
    "df.info()"
   ]
  },
  {
   "cell_type": "code",
   "execution_count": 4,
   "metadata": {},
   "outputs": [
    {
     "data": {
      "text/plain": [
       "userID            0\n",
       "listingID         0\n",
       "viewCount         0\n",
       "like              0\n",
       "share             0\n",
       "contactClicked    0\n",
       "timeSpent         0\n",
       "ratings           0\n",
       "dtype: int64"
      ]
     },
     "execution_count": 4,
     "metadata": {},
     "output_type": "execute_result"
    }
   ],
   "source": [
    "df.isna().sum()"
   ]
  },
  {
   "cell_type": "code",
   "execution_count": 5,
   "metadata": {},
   "outputs": [
    {
     "name": "stdout",
     "output_type": "stream",
     "text": [
      "userID\n",
      "33    8\n",
      "49    6\n",
      "20    6\n",
      "22    5\n",
      "6     5\n",
      "19    5\n",
      "18    5\n",
      "24    5\n",
      "44    5\n",
      "26    5\n",
      "11    5\n",
      "1     4\n",
      "21    4\n",
      "42    4\n",
      "28    4\n",
      "27    4\n",
      "41    4\n",
      "16    4\n",
      "31    3\n",
      "29    3\n",
      "40    3\n",
      "5     3\n",
      "30    3\n",
      "17    3\n",
      "43    3\n",
      "37    3\n",
      "4     3\n",
      "34    3\n",
      "2     2\n",
      "14    2\n",
      "13    2\n",
      "10    2\n",
      "45    2\n",
      "50    2\n",
      "36    2\n",
      "9     2\n",
      "48    2\n",
      "8     2\n",
      "3     2\n",
      "12    1\n",
      "15    1\n",
      "7     1\n",
      "32    1\n",
      "46    1\n",
      "38    1\n",
      "35    1\n",
      "23    1\n",
      "47    1\n",
      "25    1\n",
      "Name: count, dtype: int64\n",
      "\n",
      "listingID\n",
      "1572    8\n",
      "1935    5\n",
      "1014    4\n",
      "1234    4\n",
      "1791    4\n",
      "       ..\n",
      "1541    1\n",
      "1682    1\n",
      "1017    1\n",
      "1310    1\n",
      "1471    1\n",
      "Name: count, Length: 81, dtype: int64\n",
      "\n",
      "viewCount\n",
      "5     23\n",
      "6     21\n",
      "9     17\n",
      "3     16\n",
      "8     15\n",
      "4     13\n",
      "2     12\n",
      "10    11\n",
      "1     11\n",
      "7     11\n",
      "Name: count, dtype: int64\n",
      "\n",
      "like\n",
      "True     76\n",
      "False    74\n",
      "Name: count, dtype: int64\n",
      "\n",
      "share\n",
      "False    85\n",
      "True     65\n",
      "Name: count, dtype: int64\n",
      "\n",
      "contactClicked\n",
      "False    78\n",
      "True     72\n",
      "Name: count, dtype: int64\n",
      "\n",
      "timeSpent\n",
      "91     4\n",
      "144    3\n",
      "68     3\n",
      "292    3\n",
      "209    3\n",
      "      ..\n",
      "255    1\n",
      "291    1\n",
      "260    1\n",
      "216    1\n",
      "141    1\n",
      "Name: count, Length: 114, dtype: int64\n",
      "\n",
      "ratings\n",
      "0.647    24\n",
      "0.176    22\n",
      "0.000    21\n",
      "0.353    19\n",
      "0.471    18\n",
      "0.529    16\n",
      "0.824    16\n",
      "1.000    14\n",
      "Name: count, dtype: int64\n",
      "\n"
     ]
    }
   ],
   "source": [
    "for col in df.columns:\n",
    "    print(df[col].value_counts(), end='\\n\\n')"
   ]
  },
  {
   "cell_type": "markdown",
   "metadata": {},
   "source": [
    "- Property Type and Location need to be Encoded (Categorical)\n",
    "- Numericals need to be Standardized (Standard Scaler)"
   ]
  },
  {
   "cell_type": "code",
   "execution_count": 6,
   "metadata": {},
   "outputs": [],
   "source": [
    "from sklearn.preprocessing import StandardScaler, OneHotEncoder, LabelEncoder\n",
    "from sklearn.model_selection import train_test_split\n",
    "from sklearn.linear_model import LinearRegression\n",
    "from sklearn.metrics import mean_squared_error\n",
    "from sklearn.compose import ColumnTransformer\n",
    "from sklearn.pipeline import Pipeline"
   ]
  },
  {
   "cell_type": "code",
   "execution_count": 7,
   "metadata": {},
   "outputs": [],
   "source": [
    "# Remove identifiers\n",
    "df.drop(['userID'], axis=1, inplace=True)"
   ]
  },
  {
   "cell_type": "code",
   "execution_count": 8,
   "metadata": {},
   "outputs": [],
   "source": [
    "# The Aim is for the Property to be Interesting enough for the \n",
    "# User to Contact the Agent, so that is the Target Variable\n",
    "X = df.drop(['ratings'], axis=1)\n",
    "y = df['ratings']"
   ]
  },
  {
   "cell_type": "code",
   "execution_count": 9,
   "metadata": {},
   "outputs": [
    {
     "data": {
      "text/html": [
       "<div>\n",
       "<style scoped>\n",
       "    .dataframe tbody tr th:only-of-type {\n",
       "        vertical-align: middle;\n",
       "    }\n",
       "\n",
       "    .dataframe tbody tr th {\n",
       "        vertical-align: top;\n",
       "    }\n",
       "\n",
       "    .dataframe thead th {\n",
       "        text-align: right;\n",
       "    }\n",
       "</style>\n",
       "<table border=\"1\" class=\"dataframe\">\n",
       "  <thead>\n",
       "    <tr style=\"text-align: right;\">\n",
       "      <th></th>\n",
       "      <th>listingID</th>\n",
       "      <th>viewCount</th>\n",
       "      <th>like</th>\n",
       "      <th>share</th>\n",
       "      <th>contactClicked</th>\n",
       "      <th>timeSpent</th>\n",
       "    </tr>\n",
       "  </thead>\n",
       "  <tbody>\n",
       "    <tr>\n",
       "      <th>0</th>\n",
       "      <td>-1.213773</td>\n",
       "      <td>-0.215808</td>\n",
       "      <td>0</td>\n",
       "      <td>1</td>\n",
       "      <td>0</td>\n",
       "      <td>-0.016704</td>\n",
       "    </tr>\n",
       "    <tr>\n",
       "      <th>1</th>\n",
       "      <td>-1.725573</td>\n",
       "      <td>-1.345037</td>\n",
       "      <td>1</td>\n",
       "      <td>1</td>\n",
       "      <td>1</td>\n",
       "      <td>-1.374911</td>\n",
       "    </tr>\n",
       "    <tr>\n",
       "      <th>2</th>\n",
       "      <td>1.050233</td>\n",
       "      <td>-1.345037</td>\n",
       "      <td>1</td>\n",
       "      <td>0</td>\n",
       "      <td>1</td>\n",
       "      <td>-0.122082</td>\n",
       "    </tr>\n",
       "    <tr>\n",
       "      <th>3</th>\n",
       "      <td>-0.911668</td>\n",
       "      <td>-0.215808</td>\n",
       "      <td>0</td>\n",
       "      <td>0</td>\n",
       "      <td>1</td>\n",
       "      <td>0.685816</td>\n",
       "    </tr>\n",
       "    <tr>\n",
       "      <th>4</th>\n",
       "      <td>-0.780164</td>\n",
       "      <td>-0.592218</td>\n",
       "      <td>1</td>\n",
       "      <td>1</td>\n",
       "      <td>1</td>\n",
       "      <td>0.521895</td>\n",
       "    </tr>\n",
       "  </tbody>\n",
       "</table>\n",
       "</div>"
      ],
      "text/plain": [
       "   listingID  viewCount  like  share  contactClicked  timeSpent\n",
       "0  -1.213773  -0.215808     0      1               0  -0.016704\n",
       "1  -1.725573  -1.345037     1      1               1  -1.374911\n",
       "2   1.050233  -1.345037     1      0               1  -0.122082\n",
       "3  -0.911668  -0.215808     0      0               1   0.685816\n",
       "4  -0.780164  -0.592218     1      1               1   0.521895"
      ]
     },
     "execution_count": 9,
     "metadata": {},
     "output_type": "execute_result"
    }
   ],
   "source": [
    "# Preprocessing\n",
    "cat_cols = ['like', 'share', 'contactClicked']\n",
    "num_cols = ['listingID', 'viewCount', 'timeSpent']\n",
    "\n",
    "for col in cat_cols:\n",
    "    X[col] = LabelEncoder().fit_transform(X[col])\n",
    "\n",
    "X[num_cols] = StandardScaler().fit_transform(X[num_cols])\n",
    "\n",
    "X.head()"
   ]
  },
  {
   "cell_type": "code",
   "execution_count": 10,
   "metadata": {},
   "outputs": [
    {
     "name": "stdout",
     "output_type": "stream",
     "text": [
      "MSE: 3.048557359604964e-32\n"
     ]
    }
   ],
   "source": [
    "# Split the data\n",
    "X_train, X_test, y_train, y_test = train_test_split(X, y, test_size=0.2, random_state=42)\n",
    "\n",
    "model = LinearRegression()\n",
    "# Train the model\n",
    "model.fit(X_train, y_train)\n",
    "\n",
    "# Predict and evaluate\n",
    "y_pred = model.predict(X_test)\n",
    "print('MSE:', mean_squared_error(y_test, y_pred))"
   ]
  }
 ],
 "metadata": {
  "kernelspec": {
   "display_name": "rec-engine",
   "language": "python",
   "name": "python3"
  },
  "language_info": {
   "codemirror_mode": {
    "name": "ipython",
    "version": 3
   },
   "file_extension": ".py",
   "mimetype": "text/x-python",
   "name": "python",
   "nbconvert_exporter": "python",
   "pygments_lexer": "ipython3",
   "version": "3.11.9"
  }
 },
 "nbformat": 4,
 "nbformat_minor": 2
}
